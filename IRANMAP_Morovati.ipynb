{
  "metadata": {
    "kernelspec": {
      "display_name": "Pyolite",
      "language": "python",
      "name": "python"
    },
    "language_info": {
      "codemirror_mode": {
        "name": "python",
        "version": 3
      },
      "file_extension": ".py",
      "mimetype": "text/x-python",
      "name": "python",
      "nbconvert_exporter": "python",
      "pygments_lexer": "ipython3",
      "version": "3.8"
    }
  },
  "nbformat_minor": 5,
  "nbformat": 4,
  "cells": [
    {
      "cell_type": "code",
      "source": "",
      "metadata": {},
      "execution_count": null,
      "outputs": [],
      "id": "542c289c-716b-46b8-9d71-a00c7f9e60ee"
    },
    {
      "cell_type": "code",
      "source": "#!/usr/bin/env python\n# coding: utf-8\n\n# In[1]:\n\n\nimport folium\niran_map = folium.Map(location = [32.4279,53.6880],zoom_start = 5)\niran_map\n\n\n# In[7]:\n\n\nimport pandas as pd\nubaar = pd.read_csv(\"C:\\\\Users\\\\Saeed\\\\Desktop\\\\1\\\\ubaar-competition (1)\\\\train.csv\")\nsample_ubaar = ubaar.head(1000)\nubaar.head()\n\n\n# In[8]:\n\n\nfor lat, lng in zip(sample_ubaar.sourceLatitude,sample_ubaar.sourceLongitude):\n    folium.CircleMarker(\n        [lat, lng],\n        radius=2,\n        color='red',\n        fill=True,\n        fill_color='darkred',\n        fill_opacity=0.5 ).add_to(iran_map)\niran_map\n\n\n# In[9]:\n\n\nfor lat, lng in zip(sample_ubaar.destinationLatitude,sample_ubaar.destinationLongitude):\n folium.CircleMarker(\n    [lat, lng],\n    radius=2,\n    color='blue',\n    fill=True,\n    fill_color='blue',\n    fill_opacity=0.3 ).add_to(iran_map)\niran_map\n\n\n# In[10]:\n\n\niran_map = folium.Map(location = [32.4279,53.6880],zoom_start = 5)\n\n\n# In[11]:\n\n\niran_map\n\n\n# In[12]:\n\n\nfor row in range(sample_ubaar.shape[0]):\n    folium.CircleMarker(\n         location=[sample_ubaar.iloc[row,:]['sourceLatitude'],\n         sample_ubaar.iloc[row,:]['sourceLongitude']],\n         radius=int(sample_ubaar.iloc[row,:]['price']),\n         color='red',\n         fill=True,\n         fill_color='darkred',\n         fill_opacity = 0.7\n         ).add_to(iran_map)\n\n\n# In[13]:\n\n\niran_map\n\n\n# In[14]:\n\n\niran_map = folium.Map(location = [32.4279,53.6880],zoom_start = 5)\n\n\n# In[15]:\n\n\niran_map = folium.Map(location = [32.4279,53.6880],zoom_start = 5)\nfrom folium.plugins import HeatMap\niran_map = folium.Map(location = [32.4279,53.6880],zoom_start = 5)\niran_map\n\n\n# In[18]:\n\n\nfor row in range(sample_ubaar.shape[0]):\n    folium.CircleMarker(\n        location=[sample_ubaar.iloc[row,:]['destinationLatitude'],\n        sample_ubaar.iloc[row,:]['destinationLongitude']],\n        radius=int(sample_ubaar.iloc[row,:]['price']),\n        color='blue',\n        fill=True,\n        fill_color='blue',\n        fill_opacity = 0.1\n        ).add_to(iran_map)\n\n\n# In[19]:\n\n\niran_map\n\n\n# In[21]:\n\n\niran_map = folium.Map(location = [32.4279,53.6880],zoom_start = 5)\n\n\n# In[16]:\n\n\nubaar['price_normalized'] = (ubaar['price'] - ubaar['price'].min())/ ubaar['price'].max()\nHeatMap(\n data=list(zip(ubaar.head(20000)['sourceLatitude'],\n ubaar.head(20000)['sourceLongitude'],\n ubaar.head(20000)['price_normalized'])\n ) ,\n radius = 12\n).add_to(iran_map)\niran_map\n\n\n# In[ ]:\n\n\n\n",
      "metadata": {},
      "execution_count": null,
      "outputs": [],
      "id": "e22fc042-bef5-4f7d-b19d-e95982abe18e"
    },
    {
      "cell_type": "markdown",
      "source": "# Introduction to the JupyterLab and Jupyter Notebooks\n\nThis is a short introduction to two of the flagship tools created by [the Jupyter Community](https://jupyter.org).\n\n> **⚠️Experimental!⚠️**: This is an experimental interface provided by the [JupyterLite project](https://jupyterlite.readthedocs.io/en/latest/). It embeds an entire JupyterLab interface, with many popular packages for scientific computing, in your browser. There may be minor differences in behavior between JupyterLite and the JupyterLab you install locally. You may also encounter some bugs or unexpected behavior. To report any issues, or to get involved with the JupyterLite project, see [the JupyterLite repository](https://github.com/jupyterlite/jupyterlite/issues?q=is%3Aissue+is%3Aopen+sort%3Aupdated-desc).\n\n## JupyterLab 🧪\n\n**JupyterLab** is a next-generation web-based user interface for Project Jupyter. It enables you to work with documents and activities such as Jupyter notebooks, text editors, terminals, and custom components in a flexible, integrated, and extensible manner. It is the interface that you're looking at right now.\n\n**For an overview of the JupyterLab interface**, see the **JupyterLab Welcome Tour** on this page, by going to `Help -> Welcome Tour` and following the prompts.\n\n> **See Also**: For a more in-depth tour of JupyterLab with a full environment that runs in the cloud, see [the JupyterLab introduction on Binder](https://mybinder.org/v2/gh/jupyterlab/jupyterlab-demo/HEAD?urlpath=lab/tree/demo).\n\n## Jupyter Notebooks 📓\n\n**Jupyter Notebooks** are a community standard for communicating and performing interactive computing. They are a document that blends computations, outputs, explanatory text, mathematics, images, and rich media representations of objects.\n\nJupyterLab is one interface used to create and interact with Jupyter Notebooks.\n\n**For an overview of Jupyter Notebooks**, see the **JupyterLab Welcome Tour** on this page, by going to `Help -> Notebook Tour` and following the prompts.\n\n> **See Also**: For a more in-depth tour of Jupyter Notebooks and the Classic Jupyter Notebook interface, see [the Jupyter Notebook IPython tutorial on Binder](https://mybinder.org/v2/gh/ipython/ipython-in-depth/HEAD?urlpath=tree/binder/Index.ipynb).\n\n## An example: visualizing data in the notebook ✨\n\nBelow is an example of a code cell. We'll visualize some simple data using two popular packages in Python. We'll use [NumPy](https://numpy.org/) to create some random data, and [Matplotlib](https://matplotlib.org) to visualize it.\n\nNote how the code and the results of running the code are bundled together.",
      "metadata": {},
      "id": "a35eeb9f-df70-4ab1-a243-2d2025888eb0"
    },
    {
      "cell_type": "code",
      "source": "",
      "metadata": {},
      "execution_count": null,
      "outputs": [],
      "id": "26850401-323b-44ad-b6d5-275b3863a6c7"
    },
    {
      "cell_type": "code",
      "source": "",
      "metadata": {},
      "execution_count": null,
      "outputs": [],
      "id": "f451d73e-4dad-4f24-a9fd-6045768f1598"
    },
    {
      "cell_type": "code",
      "source": "",
      "metadata": {},
      "execution_count": null,
      "outputs": [],
      "id": "0690020e-7748-41e2-86db-90bd3c90aa0c"
    },
    {
      "cell_type": "markdown",
      "source": "## Next steps 🏃\n\nThis is just a short introduction to JupyterLab and Jupyter Notebooks. See below for some more ways to interact with tools in the Jupyter ecosystem, and its community.\n\n### Other notebooks in this demo\n\nHere are some other notebooks in this demo. Each of the items below corresponds to a file or folder in the **file browser to the left**.\n\n- [**`Lorenz.ipynb`**](Lorenz.ipynb) uses Python to demonstrate interactive visualizations and computations around the [Lorenz system](https://en.wikipedia.org/wiki/Lorenz_system). It shows off basic Python functionality, including more visualizations, data structures, and scientific computing libraries.\n- [**`sqlite.ipynb`**](sqlite.ipynb) demonstrates how an in-browser sqlite kernel to run your own SQL commands from the notebook. It uses the [jupyterlite/xeus-sqlite-kernel](https://github.com/jupyterlite/xeus-sqlite-kernel).\n\n### Other sources of information in Jupyter\n\n- **More on using JupyterLab**: See [the JupyterLab documentation](https://jupyterlab.readthedocs.io/en/stable/) for more thorough information about how to install and use JupyterLab.\n- **More interactive demos**: See [try.jupyter.org](https://try.jupyter.org) for more interactive demos with the Jupyter ecosystem.\n- **Learn more about Jupyter**: See [the Jupyter community documentation](https://docs.jupyter.org) to learn more about the project, its community and tools, and how to get involved.\n- **Join our discussions**: The [Jupyter Community Forum](https://discourse.jupyter.org) is a place where many in the Jupyter community ask questions, help one another, and discuss issues around interactive computing and our ecosystem.",
      "metadata": {},
      "id": "b9670d85-ef29-4dfd-b4b5-e76d279c1f1a"
    }
  ]
}