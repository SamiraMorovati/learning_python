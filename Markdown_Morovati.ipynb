{
 "cells": [
  {
   "cell_type": "code",
   "execution_count": null,
   "id": "3db83a5d",
   "metadata": {},
   "outputs": [],
   "source": [
    "#this is a level 1 healing\n",
    "##this is a level 2 healing\n",
    "this is some plain text that forms a paragraph.Add emphasis via**bold**and _bold_,or*italic*and_italic_.\n",
    "paragraphs must be separated by an empty line.\n",
    "*Sometimes we want to include lists.\n",
    "*Which can be bulleted using asterisks.\n",
    "1.Lists can also be numbered.\n",
    "2.If we want an ordered list.\n",
    "\n",
    "[It is possible to include hyperlinks](https://www.example.com)\n",
    "Inline code uses single backticks:'foo()',and code blocks use triple backticks:\n",
    " '''       \n",
    " bar()\n",
    " '''\n",
    "\n",
    "or can be indented by 4 spaces:\n",
    "    \n",
    "    foo()\n",
    "\n",
    "    And finally,addhng images is easy: ![Alt text](https://www.example.com/image.jpg) \n",
    "        "
   ]
  }
 ],
 "metadata": {
  "kernelspec": {
   "display_name": "Python 3 (ipykernel)",
   "language": "python",
   "name": "python3"
  },
  "language_info": {
   "codemirror_mode": {
    "name": "ipython",
    "version": 3
   },
   "file_extension": ".py",
   "mimetype": "text/x-python",
   "name": "python",
   "nbconvert_exporter": "python",
   "pygments_lexer": "ipython3",
   "version": "3.9.7"
  }
 },
 "nbformat": 4,
 "nbformat_minor": 5
}
