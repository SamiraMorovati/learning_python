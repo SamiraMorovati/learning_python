{
 "cells": [
  {
   "cell_type": "code",
   "execution_count": 2,
   "id": "76f333be",
   "metadata": {},
   "outputs": [
    {
     "data": {
      "text/plain": [
       "True"
      ]
     },
     "execution_count": 2,
     "metadata": {},
     "output_type": "execute_result"
    }
   ],
   "source": [
    "def all_unique(lst):\n",
    "    return len (lst) == len(set(lst))\n",
    "\n",
    "x=[1,1,2,2,3,2,4,5,6]\n",
    "y=[1,2,3,4,5]\n",
    "all_unique(x) #false\n",
    "all_unique(y) #true"
   ]
  },
  {
   "cell_type": "code",
   "execution_count": null,
   "id": "eec31b3a",
   "metadata": {},
   "outputs": [],
   "source": []
  }
 ],
 "metadata": {
  "kernelspec": {
   "display_name": "Python 3 (ipykernel)",
   "language": "python",
   "name": "python3"
  },
  "language_info": {
   "codemirror_mode": {
    "name": "ipython",
    "version": 3
   },
   "file_extension": ".py",
   "mimetype": "text/x-python",
   "name": "python",
   "nbconvert_exporter": "python",
   "pygments_lexer": "ipython3",
   "version": "3.9.7"
  }
 },
 "nbformat": 4,
 "nbformat_minor": 5
}
